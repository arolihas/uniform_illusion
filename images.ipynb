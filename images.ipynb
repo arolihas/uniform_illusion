{
 "metadata": {
  "language_info": {
   "codemirror_mode": {
    "name": "ipython",
    "version": 3
   },
   "file_extension": ".py",
   "mimetype": "text/x-python",
   "name": "python",
   "nbconvert_exporter": "python",
   "pygments_lexer": "ipython3",
   "version": "3.5.3-final"
  },
  "orig_nbformat": 2,
  "kernelspec": {
   "name": "python3",
   "display_name": "Python 3.5.3 64-bit ('3.5.3')",
   "metadata": {
    "interpreter": {
     "hash": "754cda8c3e5d5ebef228e009e8f69514e6b0c5b43b2a5e0fa910a601fcfaef4f"
    }
   }
  }
 },
 "nbformat": 4,
 "nbformat_minor": 2,
 "cells": [
  {
   "cell_type": "code",
   "execution_count": 121,
   "metadata": {},
   "outputs": [
    {
     "output_type": "stream",
     "name": "stdout",
     "text": [
      "The holoviews.ipython extension is already loaded. To reload it, use:\n  %reload_ext holoviews.ipython\n"
     ]
    }
   ],
   "source": [
    "import imagen as ig\n",
    "import holoviews as hv\n",
    "from PIL import Image, ImageFilter\n",
    "\n",
    "%load_ext holoviews.ipython\n",
    "%opts Layout [vertical_spacing=0.0 horizontal_spacing=0.0] Image [show_xaxis=None show_yaxis=None show_frame=False show_title=False padding=0]"
   ]
  },
  {
   "cell_type": "code",
   "execution_count": null,
   "metadata": {},
   "outputs": [],
   "source": [
    "rect = ig.Rectangle()"
   ]
  },
  {
   "cell_type": "code",
   "execution_count": null,
   "metadata": {},
   "outputs": [],
   "source": [
    "raw_rect = ig.RawRectangle()"
   ]
  },
  {
   "cell_type": "code",
   "execution_count": 319,
   "metadata": {},
   "outputs": [
    {
     "output_type": "stream",
     "name": "stderr",
     "text": [
      "WARNING:param.Rectangle: Use method 'debug' via param namespace \n",
      "WARNING:param.RawRectangle: Use method 'debug' via param namespace \n"
     ]
    }
   ],
   "source": [
    "hv.save(rect[:], 'rect.png')\n",
    "hv.save(raw_rect[:], 'raw_rect.png')"
   ]
  },
  {
   "cell_type": "code",
   "execution_count": 317,
   "metadata": {},
   "outputs": [],
   "source": [
    "def illusion(pat): \n",
    "    bh, bw = 16, 16\n",
    "    pat = pat.resize((bh, bw))\n",
    "    h, w = 256, 256\n",
    "    uni = Image.new('RGB', (h,w))\n",
    "    for i in range(0, w, bw):\n",
    "        for j in range(0, h, bh):\n",
    "            uni.paste(pat, (i, j))\n",
    "    box = (50, 50, h-50, w-50)\n",
    "    blur = uni.filter(ImageFilter.BLUR)\n",
    "    blur = blur.crop(box)\n",
    "    uni.paste(blur, box)\n",
    "    return uni"
   ]
  },
  {
   "cell_type": "code",
   "execution_count": 326,
   "metadata": {},
   "outputs": [
    {
     "output_type": "execute_result",
     "data": {
      "text/plain": [
       "<PIL.Image.Image image mode=RGB size=256x256 at 0x11CE93898>"
      ],
      "image/png": "[encoded data removed]"
     },
     "metadata": {},
     "execution_count": 326
    }
   ],
   "source": [
    "pat = Image.open('rect.png')\n",
    "ill = illusion(pat)\n",
    "ill.save('illusion_image/blur/1.png')\n",
    "ill"
   ]
  },
  {
   "cell_type": "code",
   "execution_count": 327,
   "metadata": {},
   "outputs": [
    {
     "output_type": "execute_result",
     "data": {
      "text/plain": [
       "<PIL.Image.Image image mode=RGB size=256x256 at 0x11CF199B0>"
      ],
      "image/png": "[encoded data removed]"
     },
     "metadata": {},
     "execution_count": 327
    }
   ],
   "source": [
    "pat = Image.open('rect.png')\n",
    "bh, bw = 16, 16\n",
    "pat = pat.resize((bh, bw))\n",
    "pat = pat.crop((1,1,bh-1,bw-1))\n",
    "ill = illusion(pat)\n",
    "ill.save('illusion_image/blur/2.png')\n",
    "ill"
   ]
  },
  {
   "cell_type": "code",
   "execution_count": 328,
   "metadata": {},
   "outputs": [
    {
     "output_type": "execute_result",
     "data": {
      "text/plain": [
       "<PIL.Image.Image image mode=RGB size=256x256 at 0x11CF19E10>"
      ],
      "image/png": "[encoded data removed]"
     },
     "metadata": {},
     "execution_count": 328
    }
   ],
   "source": [
    "pat = Image.open('rect.png')\n",
    "bh, bw = 100, 100\n",
    "pat = pat.resize((bh, bw))\n",
    "pat = pat.crop((5,5,bh-5,bw-5))\n",
    "bh, bw = 16, 16\n",
    "pat = pat.resize((bh, bw))\n",
    "ill = illusion(pat)\n",
    "ill.save('illusion_image/blur/3.png')\n",
    "ill"
   ]
  },
  {
   "cell_type": "code",
   "execution_count": 329,
   "metadata": {},
   "outputs": [
    {
     "output_type": "execute_result",
     "data": {
      "text/plain": [
       "<PIL.Image.Image image mode=RGB size=256x256 at 0x11CF19978>"
      ],
      "image/png": "[encoded data removed]"
     },
     "metadata": {},
     "execution_count": 329
    }
   ],
   "source": [
    "pat = Image.open('raw_rect.png')\n",
    "ill = illusion(pat)\n",
    "ill.save('illusion_image/blur/4.png')\n",
    "ill"
   ]
  },
  {
   "cell_type": "code",
   "execution_count": 330,
   "metadata": {},
   "outputs": [
    {
     "output_type": "execute_result",
     "data": {
      "text/plain": [
       "<PIL.Image.Image image mode=RGB size=256x256 at 0x11CF19470>"
      ],
      "image/png": "[encoded data removed]"
     },
     "metadata": {},
     "execution_count": 330
    }
   ],
   "source": [
    "pat = Image.open('raw_rect.png')\n",
    "bh, bw = 16, 16\n",
    "pat = pat.resize((bh, bw))\n",
    "pat = pat.crop((1,1,bh-1,bw-1))\n",
    "ill = illusion(pat)\n",
    "ill.save('illusion_image/blur/.png')\n",
    "ill"
   ]
  },
  {
   "cell_type": "code",
   "execution_count": 331,
   "metadata": {},
   "outputs": [
    {
     "output_type": "execute_result",
     "data": {
      "text/plain": [
       "<PIL.Image.Image image mode=RGB size=256x256 at 0x11CEA33C8>"
      ],
      "image/png": "[encoded data removed]"
     },
     "metadata": {},
     "execution_count": 331
    }
   ],
   "source": [
    "pat = Image.open('raw_rect.png')\n",
    "bh, bw = 100, 100\n",
    "pat = pat.resize((bh, bw))\n",
    "pat = pat.crop((5,5,bh-5,bw-5))\n",
    "bh, bw = 16, 16\n",
    "pat = pat.resize((bh, bw))\n",
    "ill = illusion(pat)\n",
    "ill.save('illusion_image/blur/5.png')\n",
    "ill"
   ]
  },
  {
   "cell_type": "code",
   "execution_count": null,
   "metadata": {},
   "outputs": [],
   "source": []
  }
 ]
}