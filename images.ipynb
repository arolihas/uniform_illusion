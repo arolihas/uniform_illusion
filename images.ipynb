{
 "metadata": {
  "language_info": {
   "codemirror_mode": {
    "name": "ipython",
    "version": 3
   },
   "file_extension": ".py",
   "mimetype": "text/x-python",
   "name": "python",
   "nbconvert_exporter": "python",
   "pygments_lexer": "ipython3",
   "version": "3.5.3-final"
  },
  "orig_nbformat": 2,
  "kernelspec": {
   "name": "python3",
   "display_name": "Python 3.5.3 64-bit ('3.5.3')",
   "metadata": {
    "interpreter": {
     "hash": "754cda8c3e5d5ebef228e009e8f69514e6b0c5b43b2a5e0fa910a601fcfaef4f"
    }
   }
  }
 },
 "nbformat": 4,
 "nbformat_minor": 2,
 "cells": [
  {
   "cell_type": "code",
   "execution_count": 354,
   "metadata": {
    "tags": [
     "outputPrepend"
    ]
   },
   "outputs": [
    {
     "output_type": "stream",
     "name": "stdout",
     "text": [
      "t holoviews.ipython\n"
     ]
    }
   ],
   "source": [
    "import imagen as ig\n",
    "import holoviews as hv\n",
    "from PIL import Image, ImageFilter\n",
    "\n",
    "%load_ext holoviews.ipython\n",
    "%opts Layout [vertical_spacing=0.0 horizontal_spacing=0.0] Image [show_xaxis=None show_yaxis=None show_frame=False show_title=False padding=0]"
   ]
  },
  {
   "cell_type": "code",
   "execution_count": 362,
   "metadata": {
    "tags": [
     "outputPrepend"
    ]
   },
   "outputs": [
    {
     "output_type": "stream",
     "name": "stderr",
     "text": [
      "ia param namespace \n"
     ]
    },
    {
     "output_type": "execute_result",
     "data": {
      "text/plain": [
       ":Image   [x,y]   (z)"
      ],
      "text/html": "<img src='data:image/png;base64,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' style='max-width:100%; margin: auto; display: block; '/>"
     },
     "metadata": {
      "application/vnd.holoviews_exec.v0+json": {}
     },
     "execution_count": 362
    }
   ],
   "source": [
    "rect = ig.Rectangle()\n",
    "ig.Asterisk(x=-0.1, y=-0.1)[:]"
   ]
  },
  {
   "cell_type": "code",
   "execution_count": 352,
   "metadata": {
    "tags": [
     "outputPrepend"
    ]
   },
   "outputs": [
    {
     "output_type": "stream",
     "name": "stderr",
     "text": [
      "ia param namespace \n"
     ]
    },
    {
     "output_type": "execute_result",
     "data": {
      "text/plain": [
       ":Image   [x,y]   (z)"
      ],
      "text/html": "<img src='data:image/png;base64,iVBORw0KGgoAAAANSUhEUgAAAJ4AAACeCAYAAADDhbN7AAAABHNCSVQICAgIfAhkiAAAAAlwSFlzAAALEgAACxIB0t1+/AAAADl0RVh0U29mdHdhcmUAbWF0cGxvdGxpYiB2ZXJzaW9uIDMuMC4zLCBodHRwOi8vbWF0cGxvdGxpYi5vcmcvnQurowAAA51JREFUeJzt28tKG2EYh/F/4piYSKsLQVDBRRbeTC+3V9JdFy4KrVBw0aM1QZ0uREpPojDzPd8kz28bmLyLx3dOcdS2bRupsDE9gDaT4QlheEIYnhCGJ4ThCdE89uHr9qrUHFpDr0bz/37mxhPC8IQwPCEMTwjDE8LwhDA8IQxPCMMTwvCEMDwhHn1X+1y3XR5M1dnq8Fidhpckt/4Hx9rZGnV/TE+1QnS+8R4s73r4M1Fx03E/p7DewkuSlafdQZv0uDt6DS9JvnrHMUgvuryT+Ifew0uS1V2Jb1FXJgWu/IuElySfbrzmG4L9psz1UbHwkuT90vhqdjItd1FeNLwkOb8yvhot5mXvBIuHlySXX4yvFpNZ8nK7/OMHJLwkubs2virMmGdeWHhJMr00PtLygHvQioaXJJMLeoLNtDpivx8PL0l+XLj5Spod8a+UqggvSdrP9ASbYbRHT3CvmvCSpDn3FUefbhb1/BipqvCS5Pvba3qEtbR7tkOP8JvqwkuSD+/P6RHWyvHJgh7hL1WGlySTb2/oEQZv1RwmO4f0GP9UbXhJ0uYjPcLA1RldUnl4SXI1ekePMEjz9pQe4VHVh5ckN26+Z2kq3nQPBhFekuRuSU8wDOMpPcGT1PNgRxvF8IQwPCEMTwjDE8LwhDA8IQxPCMMTwvCEMDwhDE8IwxPC8IQwPCEMTwjDE8LwhDA8IQxPCMMTwvCEMDwhDE8IwxPC8IQwPCEMTwjDE8LwhDA8IQxPCMMTwvCEMDwhDE8IwxPC8IQwPCEMTwjDE8LwhDA8IQxPCMMTwvCEMDwhDE8IwxPC8IQwPCEMTwjDE8LwhDA8IQxPCMMTwvCEMDwhDE8IwxPC8IQwPCEMTwjDE8LwhDA8IQxPCMMTwvCEMDwhDE8IwxOioQd4svGUnkAdGkR4TQ7pEdSx6sObt6f0COpBteGtmsPETbe2qg0vO0a3zqoM7/hkQY+gnlUX3u7ZDj2CCqgqvJuFjxU3RTXhjfboCVRSFeHNjlp6BBWGh7c6oicQAQ1veeCm21RIeJNZkpnRbTIkvJfbRrfpioe3mBudCod3MjU63SsW3n5jdPqlSHgTX0joD72H92Kr72/QEPUa3mTU59E1ZL2FNx17Taf/6zy8LbecnsDLfiE63XjeR+ip3HhCGJ4QhieE4QlheEIYnhCGJ4ThCWF4QhieEIYnxKhtW3+/pOLceEIYnhCGJ4ThCWF4QhieED8BVOBV5Yg4rqQAAAAASUVORK5CYII=' style='max-width:100%; margin: auto; display: block; '/>"
     },
     "metadata": {
      "application/vnd.holoviews_exec.v0+json": {}
     },
     "execution_count": 352
    }
   ],
   "source": [
    "rect[:]"
   ]
  },
  {
   "cell_type": "code",
   "execution_count": null,
   "metadata": {},
   "outputs": [],
   "source": [
    "raw_rect = ig.RawRectangle()"
   ]
  },
  {
   "cell_type": "code",
   "execution_count": 319,
   "metadata": {},
   "outputs": [
    {
     "output_type": "stream",
     "name": "stderr",
     "text": [
      "WARNING:param.Rectangle: Use method 'debug' via param namespace \n",
      "WARNING:param.RawRectangle: Use method 'debug' via param namespace \n"
     ]
    }
   ],
   "source": [
    "hv.save(rect[:], 'rect.png')\n",
    "hv.save(raw_rect[:], 'raw_rect.png')"
   ]
  },
  {
   "cell_type": "code",
   "execution_count": 326,
   "metadata": {},
   "outputs": [
    {
     "output_type": "execute_result",
     "data": {
      "text/plain": [
       "<PIL.Image.Image image mode=RGB size=256x256 at 0x11CE93898>"
      ],
      "image/png": "[encoded data removed]"
     },
     "metadata": {},
     "execution_count": 326
    }
   ],
   "source": [
    "pat = Image.open('rect.png')\n",
    "ill = illusion(pat)\n",
    "ill.save('illusion_image/blur/1.png')\n",
    "ill"
   ]
  },
  {
   "cell_type": "code",
   "execution_count": 327,
   "metadata": {},
   "outputs": [
    {
     "output_type": "execute_result",
     "data": {
      "text/plain": [
       "<PIL.Image.Image image mode=RGB size=256x256 at 0x11CF199B0>"
      ],
      "image/png": "[encoded data removed]"
     },
     "metadata": {},
     "execution_count": 327
    }
   ],
   "source": [
    "pat = Image.open('rect.png')\n",
    "bh, bw = 16, 16\n",
    "pat = pat.resize((bh, bw))\n",
    "pat = pat.crop((1,1,bh-1,bw-1))\n",
    "ill = illusion(pat)\n",
    "ill.save('illusion_image/blur/2.png')\n",
    "ill"
   ]
  },
  {
   "cell_type": "code",
   "execution_count": 328,
   "metadata": {},
   "outputs": [
    {
     "output_type": "execute_result",
     "data": {
      "text/plain": [
       "<PIL.Image.Image image mode=RGB size=256x256 at 0x11CF19E10>"
      ],
      "image/png": "[encoded data removed]"
     },
     "metadata": {},
     "execution_count": 328
    }
   ],
   "source": [
    "pat = Image.open('rect.png')\n",
    "bh, bw = 100, 100\n",
    "pat = pat.resize((bh, bw))\n",
    "pat = pat.crop((5,5,bh-5,bw-5))\n",
    "bh, bw = 16, 16\n",
    "pat = pat.resize((bh, bw))\n",
    "ill = illusion(pat)\n",
    "ill.save('illusion_image/blur/3.png')\n",
    "ill"
   ]
  },
  {
   "cell_type": "code",
   "execution_count": 329,
   "metadata": {},
   "outputs": [
    {
     "output_type": "execute_result",
     "data": {
      "text/plain": [
       "<PIL.Image.Image image mode=RGB size=256x256 at 0x11CF19978>"
      ],
      "image/png": "[encoded data removed]"
     },
     "metadata": {},
     "execution_count": 329
    }
   ],
   "source": [
    "pat = Image.open('raw_rect.png')\n",
    "ill = illusion(pat)\n",
    "ill.save('illusion_image/blur/4.png')\n",
    "ill"
   ]
  },
  {
   "cell_type": "code",
   "execution_count": 330,
   "metadata": {},
   "outputs": [
    {
     "output_type": "execute_result",
     "data": {
      "text/plain": [
       "<PIL.Image.Image image mode=RGB size=256x256 at 0x11CF19470>"
      ],
      "image/png": "[encoded data removed]"
     },
     "metadata": {},
     "execution_count": 330
    }
   ],
   "source": [
    "pat = Image.open('raw_rect.png')\n",
    "bh, bw = 16, 16\n",
    "pat = pat.resize((bh, bw))\n",
    "pat = pat.crop((1,1,bh-1,bw-1))\n",
    "ill = illusion(pat)\n",
    "ill.save('illusion_image/blur/.png')\n",
    "ill"
   ]
  },
  {
   "cell_type": "code",
   "execution_count": 331,
   "metadata": {},
   "outputs": [
    {
     "output_type": "execute_result",
     "data": {
      "text/plain": [
       "<PIL.Image.Image image mode=RGB size=256x256 at 0x11CEA33C8>"
      ],
      "image/png": "[encoded data removed]"
     },
     "metadata": {},
     "execution_count": 331
    }
   ],
   "source": [
    "pat = Image.open('raw_rect.png')\n",
    "bh, bw = 100, 100\n",
    "pat = pat.resize((bh, bw))\n",
    "pat = pat.crop((5,5,bh-5,bw-5))\n",
    "bh, bw = 16, 16\n",
    "pat = pat.resize((bh, bw))\n",
    "ill = illusion(pat)\n",
    "ill.save('illusion_image/blur/5.png')\n",
    "ill"
   ]
  },
  {
   "cell_type": "code",
   "execution_count": 317,
   "metadata": {},
   "outputs": [],
   "source": [
    "def illusion(pat): \n",
    "    bh, bw = 16, 16\n",
    "    pat = pat.resize((bh, bw))\n",
    "    h, w = 256, 256\n",
    "    uni = Image.new('RGB', (h,w))\n",
    "    for i in range(0, w, bw):\n",
    "        for j in range(0, h, bh):\n",
    "            uni.paste(pat, (i, j))\n",
    "    box = (50, 50, h-50, w-50)\n",
    "    blur = uni.filter(ImageFilter.BLUR)\n",
    "    blur = blur.crop(box)\n",
    "    uni.paste(blur, box)\n",
    "    return uni"
   ]
  },
  {
   "cell_type": "code",
   "execution_count": 348,
   "metadata": {},
   "outputs": [],
   "source": [
    "def uniform(pat):\n",
    "    bh, bw = 16, 16\n",
    "    pat = pat.resize((bh, bw))\n",
    "    h, w = 256, 256\n",
    "    uni = Image.new('RGB', (h,w))\n",
    "    for i in range(0, w, bw):\n",
    "        for j in range(0, h, bh):\n",
    "            uni.paste(pat, (i, j))\n",
    "    return uni"
   ]
  },
  {
   "cell_type": "code",
   "execution_count": 349,
   "metadata": {
    "tags": [
     "outputPrepend"
    ]
   },
   "outputs": [
    {
     "output_type": "stream",
     "name": "stderr",
     "text": [
      "ia param namespace \n"
     ]
    }
   ],
   "source": [
    "%%capture\n",
    "shapes = [ig.Rectangle(), ig.RawRectangle(), ig.Ring(), ig.Disk(), ig.Arc(), ig.Wedge(), ig.Sigmoid(), ig.Spiral(), ig.ArcCentered(), ig.Asterisk()]\n",
    "c = 0\n",
    "for shape in shapes: \n",
    "    for i in np.arange(-0.5, 0.6, 0.1):\n",
    "        for j in np.arange(-0.5, 0.6, 0.1):\n",
    "            shape.x = i\n",
    "            shape.y = j\n",
    "\n",
    "            c += 1\n",
    "            hv.save(shape[:], 'illusion_image/blur/uniform/{}.png'.format(c))\n",
    "            pat = Image.open('illusion_image/blur/uniform/{}.png'.format(c))\n",
    "            uni = uniform(pat)\n",
    "            uni.resize((28,28))\n",
    "            uni.save('illusion_image/blur/uniform/{}.png'.format(c))\n",
    "            ill_0 = illusion(pat)\n",
    "            ill_0 = ill_0.resize((28,28))\n",
    "            ill_0.save('illusion_image/blur/blurred/{}.png'.format(c))\n",
    "\n",
    "            c += 1\n",
    "            pat = pat.crop((1,1,15,15))\n",
    "            uni = uniform(pat)\n",
    "            uni.resize((28,28))\n",
    "            uni.save('illusion_image/blur/uniform/{}.png'.format(c))\n",
    "            ill_1 = illusion(pat)\n",
    "            ill_1 = ill_1.resize((28,28))\n",
    "            ill_1.save('illusion_image/blur/blurred/{}.png'.format(c))"
   ]
  }
 ]
}